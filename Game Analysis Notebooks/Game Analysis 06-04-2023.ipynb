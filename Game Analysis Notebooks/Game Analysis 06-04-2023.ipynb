{
 "cells": [
  {
   "cell_type": "code",
   "execution_count": 1,
   "id": "1a76e412-36d0-4428-acd9-2955753b56f1",
   "metadata": {
    "tags": []
   },
   "outputs": [
    {
     "name": "stdout",
     "output_type": "stream",
     "text": [
      "Requirement already satisfied: openpyxl in /usr/local/python/3.10.4/lib/python3.10/site-packages (3.1.2)\n",
      "Requirement already satisfied: et-xmlfile in /usr/local/python/3.10.4/lib/python3.10/site-packages (from openpyxl) (1.1.0)\n",
      "\n",
      "\u001b[1m[\u001b[0m\u001b[34;49mnotice\u001b[0m\u001b[1;39;49m]\u001b[0m\u001b[39;49m A new release of pip is available: \u001b[0m\u001b[31;49m23.1.1\u001b[0m\u001b[39;49m -> \u001b[0m\u001b[32;49m23.1.2\u001b[0m\n",
      "\u001b[1m[\u001b[0m\u001b[34;49mnotice\u001b[0m\u001b[1;39;49m]\u001b[0m\u001b[39;49m To update, run: \u001b[0m\u001b[32;49mpython -m pip install --upgrade pip\u001b[0m\n"
     ]
    }
   ],
   "source": [
    "import pandas as pd  \n",
    "import numpy as np  \n",
    "import matplotlib.pyplot as plt\n",
    "!pip install openpyxl"
   ]
  },
  {
   "cell_type": "code",
   "execution_count": 3,
   "id": "a2b26a08-8bd2-4bcf-8e48-3751b4ea47bd",
   "metadata": {},
   "outputs": [
    {
     "ename": "FileNotFoundError",
     "evalue": "[Errno 2] No such file or directory: 'Raw Game Data/06-04-2023.xlsx'",
     "output_type": "error",
     "traceback": [
      "\u001b[0;31m---------------------------------------------------------------------------\u001b[0m",
      "\u001b[0;31mFileNotFoundError\u001b[0m                         Traceback (most recent call last)",
      "Cell \u001b[0;32mIn[3], line 1\u001b[0m\n\u001b[0;32m----> 1\u001b[0m data \u001b[38;5;241m=\u001b[39m \u001b[43mpd\u001b[49m\u001b[38;5;241;43m.\u001b[39;49m\u001b[43mread_excel\u001b[49m\u001b[43m(\u001b[49m\u001b[38;5;124;43mr\u001b[39;49m\u001b[38;5;124;43m'\u001b[39;49m\u001b[38;5;124;43mRaw Game Data/06-04-2023.xlsx\u001b[39;49m\u001b[38;5;124;43m'\u001b[39;49m\u001b[43m,\u001b[49m\u001b[43m \u001b[49m\u001b[43mindex_col\u001b[49m\u001b[43m \u001b[49m\u001b[38;5;241;43m=\u001b[39;49m\u001b[43m \u001b[49m\u001b[38;5;124;43m\"\u001b[39;49m\u001b[38;5;124;43mGame Pitch\u001b[39;49m\u001b[38;5;124;43m\"\u001b[39;49m\u001b[43m)\u001b[49m \n\u001b[1;32m      2\u001b[0m data \u001b[38;5;241m=\u001b[39m data\u001b[38;5;241m.\u001b[39mdrop(columns \u001b[38;5;241m=\u001b[39m [\u001b[38;5;124m\"\u001b[39m\u001b[38;5;124mClientDeviceID\u001b[39m\u001b[38;5;124m\"\u001b[39m, \u001b[38;5;124m\"\u001b[39m\u001b[38;5;124mElectron App Version\u001b[39m\u001b[38;5;124m\"\u001b[39m, \u001b[38;5;124m\"\u001b[39m\u001b[38;5;124mDevice Manager Version\u001b[39m\u001b[38;5;124m\"\u001b[39m, \u001b[38;5;124m\"\u001b[39m\u001b[38;5;124mFirmwareVersion\u001b[39m\u001b[38;5;124m\"\u001b[39m, \u001b[38;5;124m\"\u001b[39m\u001b[38;5;124mField ID\u001b[39m\u001b[38;5;124m\"\u001b[39m, \u001b[38;5;124m\"\u001b[39m\u001b[38;5;124mField Name\u001b[39m\u001b[38;5;124m\"\u001b[39m, \u001b[38;5;124m\"\u001b[39m\u001b[38;5;124mRHostLibVersion\u001b[39m\u001b[38;5;124m\"\u001b[39m, \u001b[38;5;124m\"\u001b[39m\u001b[38;5;124mSTMVersion\u001b[39m\u001b[38;5;124m\"\u001b[39m, \u001b[38;5;124m\"\u001b[39m\u001b[38;5;124mServerDeviceID\u001b[39m\u001b[38;5;124m\"\u001b[39m, \u001b[38;5;124m\"\u001b[39m\u001b[38;5;124mServer Video 1\u001b[39m\u001b[38;5;124m\"\u001b[39m, \u001b[38;5;124m\"\u001b[39m\u001b[38;5;124mClient Video 1\u001b[39m\u001b[38;5;124m\"\u001b[39m, \u001b[38;5;124m\"\u001b[39m\u001b[38;5;124mServer Video 2\u001b[39m\u001b[38;5;124m\"\u001b[39m, \u001b[38;5;124m\"\u001b[39m\u001b[38;5;124mClient Video 2\u001b[39m\u001b[38;5;124m\"\u001b[39m, \u001b[38;5;124m\"\u001b[39m\u001b[38;5;124mPitch PlateSpin (RPM)\u001b[39m\u001b[38;5;124m\"\u001b[39m, \u001b[38;5;124m\"\u001b[39m\u001b[38;5;124mPitch TrueSpinRelease (RPM)\u001b[39m\u001b[38;5;124m\"\u001b[39m, \u001b[38;5;124m\"\u001b[39m\u001b[38;5;124mPitch SpinEfficiencySZ (\u001b[39m\u001b[38;5;124m%\u001b[39m\u001b[38;5;124m)\u001b[39m\u001b[38;5;124m\"\u001b[39m, \u001b[38;5;124m\"\u001b[39m\u001b[38;5;124mPitch HorizontalBreakSpin (Inches)\u001b[39m\u001b[38;5;124m\"\u001b[39m, \u001b[38;5;124m\"\u001b[39m\u001b[38;5;124mPitch VerticalBreakSpin (Inches)\u001b[39m\u001b[38;5;124m\"\u001b[39m, \u001b[38;5;124m\"\u001b[39m\u001b[38;5;124mPitch GyroDegree (Degrees)\u001b[39m\u001b[38;5;124m\"\u001b[39m, \u001b[38;5;124m\"\u001b[39m\u001b[38;5;124mPitch OriginSpinX (RPM)\u001b[39m\u001b[38;5;124m\"\u001b[39m, \u001b[38;5;124m\"\u001b[39m\u001b[38;5;124mPitch OriginSpinY (RPM)\u001b[39m\u001b[38;5;124m\"\u001b[39m, \u001b[38;5;124m\"\u001b[39m\u001b[38;5;124mPitch OriginSpinZ (RPM)\u001b[39m\u001b[38;5;124m\"\u001b[39m, \u001b[38;5;124m\"\u001b[39m\u001b[38;5;124mPitch LegacySpinX (RPM)\u001b[39m\u001b[38;5;124m\"\u001b[39m, \u001b[38;5;124m\"\u001b[39m\u001b[38;5;124mPitch LegacySpinY (RPM)\u001b[39m\u001b[38;5;124m\"\u001b[39m, \u001b[38;5;124m\"\u001b[39m\u001b[38;5;124mPitch LegacySpinZ (RPM)\u001b[39m\u001b[38;5;124m\"\u001b[39m, \u001b[38;5;124m\"\u001b[39m\u001b[38;5;124mPitch PositionX (Feet)\u001b[39m\u001b[38;5;124m\"\u001b[39m, \u001b[38;5;124m\"\u001b[39m\u001b[38;5;124mPitch PositionY (Feet)\u001b[39m\u001b[38;5;124m\"\u001b[39m, \u001b[38;5;124m\"\u001b[39m\u001b[38;5;124mPitch PositionZ (Feet)\u001b[39m\u001b[38;5;124m\"\u001b[39m, \u001b[38;5;124m\"\u001b[39m\u001b[38;5;124mPitch StartTime (Seconds)\u001b[39m\u001b[38;5;124m\"\u001b[39m, \u001b[38;5;124m\"\u001b[39m\u001b[38;5;124mPitch EndTime (Seconds)\u001b[39m\u001b[38;5;124m\"\u001b[39m, \u001b[38;5;124m\"\u001b[39m\u001b[38;5;124mPitch PlateSpin (RPM)\u001b[39m\u001b[38;5;124m\"\u001b[39m, \u001b[38;5;124m\"\u001b[39m\u001b[38;5;124mHit VelocityX (Ft/Sec)\u001b[39m\u001b[38;5;124m\"\u001b[39m, \u001b[38;5;124m\"\u001b[39m\u001b[38;5;124mHit VelocityY (Ft/Sec)\u001b[39m\u001b[38;5;124m\"\u001b[39m, \u001b[38;5;124m\"\u001b[39m\u001b[38;5;124mHit VelocityZ (Ft/Sec)\u001b[39m\u001b[38;5;124m\"\u001b[39m, \u001b[38;5;124m\"\u001b[39m\u001b[38;5;124mHit SpinX (RPM)\u001b[39m\u001b[38;5;124m\"\u001b[39m, \u001b[38;5;124m\"\u001b[39m\u001b[38;5;124mHit SpinY (RPM)\u001b[39m\u001b[38;5;124m\"\u001b[39m, \u001b[38;5;124m\"\u001b[39m\u001b[38;5;124mHit SpinZ (RPM)\u001b[39m\u001b[38;5;124m\"\u001b[39m, \u001b[38;5;124m\"\u001b[39m\u001b[38;5;124mHit BallType\u001b[39m\u001b[38;5;124m\"\u001b[39m, \u001b[38;5;124m\"\u001b[39m\u001b[38;5;124mHit SpinTiltMinute\u001b[39m\u001b[38;5;124m\"\u001b[39m, \u001b[38;5;124m\"\u001b[39m\u001b[38;5;124mHit EffectiveSpin (RPM)\u001b[39m\u001b[38;5;124m\"\u001b[39m, \u001b[38;5;124m\"\u001b[39m\u001b[38;5;124mHit SpinEfficiency (\u001b[39m\u001b[38;5;124m%\u001b[39m\u001b[38;5;124m)\u001b[39m\u001b[38;5;124m\"\u001b[39m, \u001b[38;5;124m\"\u001b[39m\u001b[38;5;124mHit HitClass\u001b[39m\u001b[38;5;124m\"\u001b[39m, \u001b[38;5;124m\"\u001b[39m\u001b[38;5;124mHit OriginSpinX (RPM)\u001b[39m\u001b[38;5;124m\"\u001b[39m, \u001b[38;5;124m\"\u001b[39m\u001b[38;5;124mHit OriginSpinY (RPM)\u001b[39m\u001b[38;5;124m\"\u001b[39m, \u001b[38;5;124m\"\u001b[39m\u001b[38;5;124mHit OriginSpinZ (RPM)\u001b[39m\u001b[38;5;124m\"\u001b[39m, \u001b[38;5;124m\"\u001b[39m\u001b[38;5;124mHit SpinTiltHour\u001b[39m\u001b[38;5;124m\"\u001b[39m, \u001b[38;5;124m\"\u001b[39m\u001b[38;5;124mHit PointofLaunchX (Feet)\u001b[39m\u001b[38;5;124m\"\u001b[39m, \u001b[38;5;124m\"\u001b[39m\u001b[38;5;124mHit PointofLaunchY (Feet)\u001b[39m\u001b[38;5;124m\"\u001b[39m, \u001b[38;5;124m\"\u001b[39m\u001b[38;5;124mHit PointofLaunchZ (Feet)\u001b[39m\u001b[38;5;124m\"\u001b[39m, \u001b[38;5;124m\"\u001b[39m\u001b[38;5;124mHit SpinAxisX (RPM)\u001b[39m\u001b[38;5;124m\"\u001b[39m, \u001b[38;5;124m\"\u001b[39m\u001b[38;5;124mHit SpinAxisY (RPM)\u001b[39m\u001b[38;5;124m\"\u001b[39m, \u001b[38;5;124m\"\u001b[39m\u001b[38;5;124mHit SpinAxisZ (RPM)\u001b[39m\u001b[38;5;124m\"\u001b[39m, \u001b[38;5;124m\"\u001b[39m\u001b[38;5;124mHit Incoming Speed (MPH)\u001b[39m\u001b[38;5;124m\"\u001b[39m, \u001b[38;5;124m\"\u001b[39m\u001b[38;5;124mHit TotalSpin (RPM)\u001b[39m\u001b[38;5;124m\"\u001b[39m, \u001b[38;5;124m\"\u001b[39m\u001b[38;5;124mHit StrikePositionX (Inches)\u001b[39m\u001b[38;5;124m\"\u001b[39m, \u001b[38;5;124m\"\u001b[39m\u001b[38;5;124mHit StrikePositionY (Inches)\u001b[39m\u001b[38;5;124m\"\u001b[39m])\n\u001b[1;32m      3\u001b[0m data\n",
      "File \u001b[0;32m~/.local/lib/python3.10/site-packages/pandas/io/excel/_base.py:478\u001b[0m, in \u001b[0;36mread_excel\u001b[0;34m(io, sheet_name, header, names, index_col, usecols, dtype, engine, converters, true_values, false_values, skiprows, nrows, na_values, keep_default_na, na_filter, verbose, parse_dates, date_parser, date_format, thousands, decimal, comment, skipfooter, storage_options, dtype_backend)\u001b[0m\n\u001b[1;32m    476\u001b[0m \u001b[38;5;28;01mif\u001b[39;00m \u001b[38;5;129;01mnot\u001b[39;00m \u001b[38;5;28misinstance\u001b[39m(io, ExcelFile):\n\u001b[1;32m    477\u001b[0m     should_close \u001b[38;5;241m=\u001b[39m \u001b[38;5;28;01mTrue\u001b[39;00m\n\u001b[0;32m--> 478\u001b[0m     io \u001b[38;5;241m=\u001b[39m \u001b[43mExcelFile\u001b[49m\u001b[43m(\u001b[49m\u001b[43mio\u001b[49m\u001b[43m,\u001b[49m\u001b[43m \u001b[49m\u001b[43mstorage_options\u001b[49m\u001b[38;5;241;43m=\u001b[39;49m\u001b[43mstorage_options\u001b[49m\u001b[43m,\u001b[49m\u001b[43m \u001b[49m\u001b[43mengine\u001b[49m\u001b[38;5;241;43m=\u001b[39;49m\u001b[43mengine\u001b[49m\u001b[43m)\u001b[49m\n\u001b[1;32m    479\u001b[0m \u001b[38;5;28;01melif\u001b[39;00m engine \u001b[38;5;129;01mand\u001b[39;00m engine \u001b[38;5;241m!=\u001b[39m io\u001b[38;5;241m.\u001b[39mengine:\n\u001b[1;32m    480\u001b[0m     \u001b[38;5;28;01mraise\u001b[39;00m \u001b[38;5;167;01mValueError\u001b[39;00m(\n\u001b[1;32m    481\u001b[0m         \u001b[38;5;124m\"\u001b[39m\u001b[38;5;124mEngine should not be specified when passing \u001b[39m\u001b[38;5;124m\"\u001b[39m\n\u001b[1;32m    482\u001b[0m         \u001b[38;5;124m\"\u001b[39m\u001b[38;5;124man ExcelFile - ExcelFile already has the engine set\u001b[39m\u001b[38;5;124m\"\u001b[39m\n\u001b[1;32m    483\u001b[0m     )\n",
      "File \u001b[0;32m~/.local/lib/python3.10/site-packages/pandas/io/excel/_base.py:1496\u001b[0m, in \u001b[0;36mExcelFile.__init__\u001b[0;34m(self, path_or_buffer, engine, storage_options)\u001b[0m\n\u001b[1;32m   1494\u001b[0m     ext \u001b[38;5;241m=\u001b[39m \u001b[38;5;124m\"\u001b[39m\u001b[38;5;124mxls\u001b[39m\u001b[38;5;124m\"\u001b[39m\n\u001b[1;32m   1495\u001b[0m \u001b[38;5;28;01melse\u001b[39;00m:\n\u001b[0;32m-> 1496\u001b[0m     ext \u001b[38;5;241m=\u001b[39m \u001b[43minspect_excel_format\u001b[49m\u001b[43m(\u001b[49m\n\u001b[1;32m   1497\u001b[0m \u001b[43m        \u001b[49m\u001b[43mcontent_or_path\u001b[49m\u001b[38;5;241;43m=\u001b[39;49m\u001b[43mpath_or_buffer\u001b[49m\u001b[43m,\u001b[49m\u001b[43m \u001b[49m\u001b[43mstorage_options\u001b[49m\u001b[38;5;241;43m=\u001b[39;49m\u001b[43mstorage_options\u001b[49m\n\u001b[1;32m   1498\u001b[0m \u001b[43m    \u001b[49m\u001b[43m)\u001b[49m\n\u001b[1;32m   1499\u001b[0m     \u001b[38;5;28;01mif\u001b[39;00m ext \u001b[38;5;129;01mis\u001b[39;00m \u001b[38;5;28;01mNone\u001b[39;00m:\n\u001b[1;32m   1500\u001b[0m         \u001b[38;5;28;01mraise\u001b[39;00m \u001b[38;5;167;01mValueError\u001b[39;00m(\n\u001b[1;32m   1501\u001b[0m             \u001b[38;5;124m\"\u001b[39m\u001b[38;5;124mExcel file format cannot be determined, you must specify \u001b[39m\u001b[38;5;124m\"\u001b[39m\n\u001b[1;32m   1502\u001b[0m             \u001b[38;5;124m\"\u001b[39m\u001b[38;5;124man engine manually.\u001b[39m\u001b[38;5;124m\"\u001b[39m\n\u001b[1;32m   1503\u001b[0m         )\n",
      "File \u001b[0;32m~/.local/lib/python3.10/site-packages/pandas/io/excel/_base.py:1371\u001b[0m, in \u001b[0;36minspect_excel_format\u001b[0;34m(content_or_path, storage_options)\u001b[0m\n\u001b[1;32m   1368\u001b[0m \u001b[38;5;28;01mif\u001b[39;00m \u001b[38;5;28misinstance\u001b[39m(content_or_path, \u001b[38;5;28mbytes\u001b[39m):\n\u001b[1;32m   1369\u001b[0m     content_or_path \u001b[38;5;241m=\u001b[39m BytesIO(content_or_path)\n\u001b[0;32m-> 1371\u001b[0m \u001b[38;5;28;01mwith\u001b[39;00m \u001b[43mget_handle\u001b[49m\u001b[43m(\u001b[49m\n\u001b[1;32m   1372\u001b[0m \u001b[43m    \u001b[49m\u001b[43mcontent_or_path\u001b[49m\u001b[43m,\u001b[49m\u001b[43m \u001b[49m\u001b[38;5;124;43m\"\u001b[39;49m\u001b[38;5;124;43mrb\u001b[39;49m\u001b[38;5;124;43m\"\u001b[39;49m\u001b[43m,\u001b[49m\u001b[43m \u001b[49m\u001b[43mstorage_options\u001b[49m\u001b[38;5;241;43m=\u001b[39;49m\u001b[43mstorage_options\u001b[49m\u001b[43m,\u001b[49m\u001b[43m \u001b[49m\u001b[43mis_text\u001b[49m\u001b[38;5;241;43m=\u001b[39;49m\u001b[38;5;28;43;01mFalse\u001b[39;49;00m\n\u001b[1;32m   1373\u001b[0m \u001b[43m\u001b[49m\u001b[43m)\u001b[49m \u001b[38;5;28;01mas\u001b[39;00m handle:\n\u001b[1;32m   1374\u001b[0m     stream \u001b[38;5;241m=\u001b[39m handle\u001b[38;5;241m.\u001b[39mhandle\n\u001b[1;32m   1375\u001b[0m     stream\u001b[38;5;241m.\u001b[39mseek(\u001b[38;5;241m0\u001b[39m)\n",
      "File \u001b[0;32m~/.local/lib/python3.10/site-packages/pandas/io/common.py:868\u001b[0m, in \u001b[0;36mget_handle\u001b[0;34m(path_or_buf, mode, encoding, compression, memory_map, is_text, errors, storage_options)\u001b[0m\n\u001b[1;32m    859\u001b[0m         handle \u001b[38;5;241m=\u001b[39m \u001b[38;5;28mopen\u001b[39m(\n\u001b[1;32m    860\u001b[0m             handle,\n\u001b[1;32m    861\u001b[0m             ioargs\u001b[38;5;241m.\u001b[39mmode,\n\u001b[0;32m   (...)\u001b[0m\n\u001b[1;32m    864\u001b[0m             newline\u001b[38;5;241m=\u001b[39m\u001b[38;5;124m\"\u001b[39m\u001b[38;5;124m\"\u001b[39m,\n\u001b[1;32m    865\u001b[0m         )\n\u001b[1;32m    866\u001b[0m     \u001b[38;5;28;01melse\u001b[39;00m:\n\u001b[1;32m    867\u001b[0m         \u001b[38;5;66;03m# Binary mode\u001b[39;00m\n\u001b[0;32m--> 868\u001b[0m         handle \u001b[38;5;241m=\u001b[39m \u001b[38;5;28;43mopen\u001b[39;49m\u001b[43m(\u001b[49m\u001b[43mhandle\u001b[49m\u001b[43m,\u001b[49m\u001b[43m \u001b[49m\u001b[43mioargs\u001b[49m\u001b[38;5;241;43m.\u001b[39;49m\u001b[43mmode\u001b[49m\u001b[43m)\u001b[49m\n\u001b[1;32m    869\u001b[0m     handles\u001b[38;5;241m.\u001b[39mappend(handle)\n\u001b[1;32m    871\u001b[0m \u001b[38;5;66;03m# Convert BytesIO or file objects passed with an encoding\u001b[39;00m\n",
      "\u001b[0;31mFileNotFoundError\u001b[0m: [Errno 2] No such file or directory: 'Raw Game Data/06-04-2023.xlsx'"
     ]
    }
   ],
   "source": [
    "data = pd.read_excel(r'Raw Game Data/06-04-2023.xlsx', index_col = \"Game Pitch\") \n",
    "data = data.drop(columns = [\"ClientDeviceID\", \"Electron App Version\", \"Device Manager Version\", \"FirmwareVersion\", \"Field ID\", \"Field Name\", \"RHostLibVersion\", \"STMVersion\", \"ServerDeviceID\", \"Server Video 1\", \"Client Video 1\", \"Server Video 2\", \"Client Video 2\", \"Pitch PlateSpin (RPM)\", \"Pitch TrueSpinRelease (RPM)\", \"Pitch SpinEfficiencySZ (%)\", \"Pitch HorizontalBreakSpin (Inches)\", \"Pitch VerticalBreakSpin (Inches)\", \"Pitch GyroDegree (Degrees)\", \"Pitch OriginSpinX (RPM)\", \"Pitch OriginSpinY (RPM)\", \"Pitch OriginSpinZ (RPM)\", \"Pitch LegacySpinX (RPM)\", \"Pitch LegacySpinY (RPM)\", \"Pitch LegacySpinZ (RPM)\", \"Pitch PositionX (Feet)\", \"Pitch PositionY (Feet)\", \"Pitch PositionZ (Feet)\", \"Pitch StartTime (Seconds)\", \"Pitch EndTime (Seconds)\", \"Pitch PlateSpin (RPM)\", \"Hit VelocityX (Ft/Sec)\", \"Hit VelocityY (Ft/Sec)\", \"Hit VelocityZ (Ft/Sec)\", \"Hit SpinX (RPM)\", \"Hit SpinY (RPM)\", \"Hit SpinZ (RPM)\", \"Hit BallType\", \"Hit SpinTiltMinute\", \"Hit EffectiveSpin (RPM)\", \"Hit SpinEfficiency (%)\", \"Hit HitClass\", \"Hit OriginSpinX (RPM)\", \"Hit OriginSpinY (RPM)\", \"Hit OriginSpinZ (RPM)\", \"Hit SpinTiltHour\", \"Hit PointofLaunchX (Feet)\", \"Hit PointofLaunchY (Feet)\", \"Hit PointofLaunchZ (Feet)\", \"Hit SpinAxisX (RPM)\", \"Hit SpinAxisY (RPM)\", \"Hit SpinAxisZ (RPM)\", \"Hit Incoming Speed (MPH)\", \"Hit TotalSpin (RPM)\", \"Hit StrikePositionX (Inches)\", \"Hit StrikePositionY (Inches)\"])\n",
    "data"
   ]
  },
  {
   "cell_type": "code",
   "execution_count": null,
   "id": "f85dcb67-2de9-4e1b-aef4-603b7095b4fa",
   "metadata": {
    "tags": []
   },
   "outputs": [],
   "source": [
    "data['Pitch TotalSpeed (MPH)'].replace('-', np.nan, inplace=True)  \n",
    "data['Pitch TotalSpeed (MPH)'].replace(0, np.nan, inplace=True) \n",
    "data.dropna(subset = ['Pitch TotalSpeed (MPH)'], inplace =True)  \n",
    "data"
   ]
  },
  {
   "cell_type": "code",
   "execution_count": null,
   "id": "6ab48cd4-eb4a-4b58-bac5-b46825575dfc",
   "metadata": {
    "tags": []
   },
   "outputs": [],
   "source": [
    "grouped = data.groupby('Pitcher ID')\n",
    "grouped"
   ]
  },
  {
   "cell_type": "code",
   "execution_count": null,
   "id": "857c09e2-1370-4398-80a3-ece7f9dcbf25",
   "metadata": {
    "tags": []
   },
   "outputs": [],
   "source": [
    "pitchers = data[['Pitcher First Name', 'Pitcher Last Name', 'Pitcher ID']] \n",
    "pitchers"
   ]
  },
  {
   "cell_type": "code",
   "execution_count": null,
   "id": "e56c12de-d384-41ac-bf42-d930d0034ec5",
   "metadata": {
    "tags": []
   },
   "outputs": [],
   "source": [
    "num_pitchers = len(data['Pitcher ID'].unique())\n",
    "fig, axes = plt.subplots(nrows=num_pitchers, ncols=1, figsize=(8, 4 * num_pitchers))\n",
    "\n",
    "for i, (pitcher_id, group) in enumerate(data.groupby('Pitcher ID')):\n",
    "    pitcher_first_name = pitchers.loc[pitchers['Pitcher ID'] == pitcher_id, 'Pitcher First Name'].iloc[0]\n",
    "    pitcher_last_name = pitchers.loc[pitchers['Pitcher ID'] == pitcher_id, 'Pitcher Last Name'].iloc[0]\n",
    "    pitcher_name = f\"{pitcher_first_name} {pitcher_last_name}\"\n",
    "    ax = axes[i]  # Get the appropriate subplot for the pitcher\n",
    "    group.plot(x='Pitch Number', y='Pitch TotalSpeed (MPH)', ax=ax, label=f'Pitcher {pitcher_name}')\n",
    "    \n",
    "    # Add markers for hits and strikeouts\n",
    "    hits = group[(group['Hit Outcomes'].notnull()) & (group['Hit Outcomes'] != 'BB') & (group['Hit Outcomes'] != 'E') & (group['Hit Outcomes'].isin(['1B', '2B', '3B', 'HR']))]\n",
    "    strikeouts = group[group['Hit Outcomes'] == 'K']\n",
    "    \n",
    "    if not hits.empty:\n",
    "        ax.scatter(hits['Pitch Number'], hits['Pitch TotalSpeed (MPH)'], color='red', marker='o', label='Hit')\n",
    "    \n",
    "    if not strikeouts.empty:\n",
    "        ax.scatter(strikeouts['Pitch Number'], strikeouts['Pitch TotalSpeed (MPH)'], color='blue', marker='x', label='Strikeout')\n",
    "    \n",
    "    ax.set_xlabel('Pitch #')\n",
    "    ax.set_ylabel('Pitch TotalSpeed (MPH)')\n",
    "    ax.set_title(f'Velocity of Fastballs - {pitcher_name}')\n",
    "    ax.legend()\n",
    "\n",
    "plt.tight_layout() \n",
    "\n",
    "file_path = 'Image Files/06-04-2023/Velocity_of_Fastballs_06-04-2023.png'\n",
    "plt.savefig(file_path)    \n",
    "    \n",
    "plt.show() \n"
   ]
  },
  {
   "cell_type": "code",
   "execution_count": null,
   "id": "9fcc5d17-7c84-434e-bcd7-903f3fdb24ab",
   "metadata": {
    "tags": []
   },
   "outputs": [],
   "source": [
    "# Create subplots\n",
    "fig, axes = plt.subplots(nrows=num_pitchers, figsize=(8, 4*num_pitchers))\n",
    "\n",
    "# Iterate over each subplot and pitcher ID\n",
    "for i, (pitcher_id, group) in enumerate(data.groupby('Pitcher ID')):\n",
    "    # Get the pitcher's name from the pitchers DataFrame\n",
    "    pitcher_first_name = pitchers.loc[pitchers['Pitcher ID'] == pitcher_id, 'Pitcher First Name'].iloc[0]\n",
    "    pitcher_last_name = pitchers.loc[pitchers['Pitcher ID'] == pitcher_id, 'Pitcher Last Name'].iloc[0]\n",
    "    pitcher_name = f\"{pitcher_first_name} {pitcher_last_name}\"\n",
    "\n",
    "    # Get the data for the current pitcher\n",
    "    pitcher_data = data[data['Pitcher ID'] == pitcher_id]\n",
    "\n",
    "    # Group the data by pitch type\n",
    "    grouped = pitcher_data.groupby('Pitch Type')\n",
    "\n",
    "    # Get the count of each pitch type\n",
    "    pitch_type_counts = grouped.size()\n",
    "\n",
    "    # Calculate the percentage of each pitch type\n",
    "    pitch_type_percentages = pitch_type_counts / pitch_type_counts.sum()\n",
    "\n",
    "    # Plot the pie chart\n",
    "    ax = axes[i]\n",
    "    ax.pie(pitch_type_percentages, labels=pitch_type_percentages.index, autopct='%1.1f%%')\n",
    "    ax.set_title(f'{pitcher_name} - Pitch Type Distribution')\n",
    "\n",
    "file_path2 = 'Image Files/06-13-2023/Pitch_Type_Distribution_06-13-2023.png'\n",
    "plt.savefig(file_path2)    \n",
    "\n",
    "# Adjust the layout to avoid overlapping subplots\n",
    "plt.tight_layout()\n",
    "\n",
    "# Display the plot\n",
    "plt.show()"
   ]
  },
  {
   "cell_type": "code",
   "execution_count": null,
   "id": "44e7982c-6bb4-42a2-8a2a-ab840eba86dd",
   "metadata": {
    "tags": []
   },
   "outputs": [],
   "source": [
    "# Create subplots\n",
    "fig, axes = plt.subplots(nrows=num_pitchers, figsize=(10, 6*num_pitchers))\n",
    "\n",
    "# Iterate over each subplot and pitcher ID\n",
    "for i, (pitcher_id, group) in enumerate(data.groupby('Pitcher ID')):\n",
    "    # Get the pitcher's name from the pitchers DataFrame \n",
    "    pitcher_first_name = pitchers.loc[pitchers['Pitcher ID'] == pitcher_id, 'Pitcher First Name'].iloc[0]\n",
    "    pitcher_last_name = pitchers.loc[pitchers['Pitcher ID'] == pitcher_id, 'Pitcher Last Name'].iloc[0]\n",
    "    pitcher_name = f\"{pitcher_first_name} {pitcher_last_name}\"\n",
    "    \n",
    "    # Get the data for the current pitcher\n",
    "    pitcher_data = data[data['Pitcher ID'] == pitcher_id]\n",
    "    \n",
    "    # Group the data by pitch type\n",
    "    grouped = pitcher_data.groupby('Pitch Type')\n",
    "    \n",
    "    # Get the corresponding subplot for the pitcher\n",
    "    ax = axes[i]\n",
    "    \n",
    "    # Iterate over each pitch type\n",
    "    for pitch_type, group in grouped:\n",
    "        # Filter out hit outcomes equal to 'BB'\n",
    "        group_filtered = group[group['Hit Outcomes'] != 'BB']\n",
    "        \n",
    "        # Plot the pitch velocity\n",
    "        ax.plot(group_filtered['Pitch Number'], group_filtered['Pitch TotalSpeed (MPH)'], label=pitch_type)\n",
    "        \n",
    "        # Filter hits for '1B', '2B', '3B'\n",
    "        hits = group[(group['Hit Outcomes'].notnull()) & (group['Hit Outcomes'] != 'BB') & (group['Hit Outcomes'] != 'E') & (group['Hit Outcomes'].isin(['1B', '2B', '3B', 'HR']))]\n",
    "        \n",
    "        # Filter strikeouts\n",
    "        strikeouts = group_filtered[group_filtered['Hit Outcomes'] == 'K']\n",
    "        \n",
    "        # Add markers for hits\n",
    "        if not hits.empty:\n",
    "            ax.scatter(hits['Pitch Number'], hits['Pitch TotalSpeed (MPH)'], color='red', marker='o', label='Hit')\n",
    "        \n",
    "        # Add markers for strikeouts\n",
    "        if not strikeouts.empty:\n",
    "            ax.scatter(strikeouts['Pitch Number'], strikeouts['Pitch TotalSpeed (MPH)'], color='blue', marker='X', label='Strikeout')\n",
    "        \n",
    "        # Add labels for each pitch number\n",
    "        for index, pitch in group_filtered.iterrows():\n",
    "            ax.annotate(pitch['Pitch Number'], (pitch['Pitch Number'], pitch['Pitch TotalSpeed (MPH)']),\n",
    "                        textcoords=\"offset points\", xytext=(-10, 10), ha='center')\n",
    "    \n",
    "    # Set the x and y-axis labels\n",
    "    ax.set_xlabel('Pitch Number')\n",
    "    ax.set_ylabel('Pitch TotalSpeed (MPH)')\n",
    "    \n",
    "    # Set the plot title as the pitcher's name\n",
    "    ax.set_title(f'{pitcher_name}')\n",
    "    \n",
    "    # Add a legend\n",
    "    ax.legend()\n",
    "\n",
    "# Adjust the layout to avoid overlapping subplots\n",
    "plt.tight_layout()\n",
    "\n",
    "# Save the plot as an image file\n",
    "file_path = 'Image Files/06-04-2023/Velocity_of_Pitch_Types_06-04-2023.png'\n",
    "plt.savefig(file_path)\n",
    "\n",
    "# Display the plot\n",
    "plt.show()\n"
   ]
  },
  {
   "cell_type": "code",
   "execution_count": null,
   "id": "063421f2-eba6-40ac-a143-a8a3542ca6e4",
   "metadata": {},
   "outputs": [],
   "source": [
    "import img2pdf\n",
    "\n",
    "output_pdf_path = b'Image Files/06-04-2023/Game_Data_06-04-2023.pdf'\n",
    "\n",
    "# Convert images to PDF\n",
    "with open(output_pdf_path, \"wb\") as f:\n",
    "    f.write(img2pdf.convert(\n",
    "        ['Image Files/06-04-2023/Pitch_Type_Distribution_06-04-2023.png', \n",
    "        'Image Files/06-04-2023/Velocity_of_Fastballs_06-04-2023.png', \n",
    "        'Image Files/06-04-2023/Velocity_of_Pitch_Types_06-04-2023.png']))\n"
   ]
  }
 ],
 "metadata": {
  "kernelspec": {
   "display_name": "Python 3 (ipykernel)",
   "language": "python",
   "name": "python3"
  },
  "language_info": {
   "codemirror_mode": {
    "name": "ipython",
    "version": 3
   },
   "file_extension": ".py",
   "mimetype": "text/x-python",
   "name": "python",
   "nbconvert_exporter": "python",
   "pygments_lexer": "ipython3",
   "version": "3.10.4"
  }
 },
 "nbformat": 4,
 "nbformat_minor": 5
}
